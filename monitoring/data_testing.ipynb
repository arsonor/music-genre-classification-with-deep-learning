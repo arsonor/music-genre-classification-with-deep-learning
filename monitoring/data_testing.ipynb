{
 "cells": [
  {
   "cell_type": "code",
   "execution_count": 1,
   "id": "bba17a05",
   "metadata": {},
   "outputs": [],
   "source": [
    "import pandas as pd\n",
    "import numpy as np\n",
    "import pyarrow"
   ]
  },
  {
   "cell_type": "code",
   "execution_count": 2,
   "id": "c088eb0e",
   "metadata": {},
   "outputs": [
    {
     "data": {
      "text/html": [
       "<div>\n",
       "<style scoped>\n",
       "    .dataframe tbody tr th:only-of-type {\n",
       "        vertical-align: middle;\n",
       "    }\n",
       "\n",
       "    .dataframe tbody tr th {\n",
       "        vertical-align: top;\n",
       "    }\n",
       "\n",
       "    .dataframe thead th {\n",
       "        text-align: right;\n",
       "    }\n",
       "</style>\n",
       "<table border=\"1\" class=\"dataframe\">\n",
       "  <thead>\n",
       "    <tr style=\"text-align: right;\">\n",
       "      <th></th>\n",
       "      <th>mfcc_1</th>\n",
       "      <th>mfcc_2</th>\n",
       "      <th>mfcc_3</th>\n",
       "      <th>mfcc_4</th>\n",
       "      <th>mfcc_5</th>\n",
       "      <th>mfcc_6</th>\n",
       "      <th>mfcc_7</th>\n",
       "      <th>mfcc_8</th>\n",
       "      <th>mfcc_9</th>\n",
       "      <th>mfcc_10</th>\n",
       "      <th>mfcc_11</th>\n",
       "      <th>mfcc_12</th>\n",
       "      <th>mfcc_13</th>\n",
       "      <th>actual_genre</th>\n",
       "      <th>predicted_genre</th>\n",
       "    </tr>\n",
       "  </thead>\n",
       "  <tbody>\n",
       "    <tr>\n",
       "      <th>0</th>\n",
       "      <td>-322.434845</td>\n",
       "      <td>90.674240</td>\n",
       "      <td>27.020731</td>\n",
       "      <td>37.843830</td>\n",
       "      <td>19.696077</td>\n",
       "      <td>4.611148</td>\n",
       "      <td>3.071033</td>\n",
       "      <td>7.974174</td>\n",
       "      <td>1.931069</td>\n",
       "      <td>2.082464</td>\n",
       "      <td>0.440032</td>\n",
       "      <td>4.890438</td>\n",
       "      <td>13.061074</td>\n",
       "      <td>jazz</td>\n",
       "      <td>jazz</td>\n",
       "    </tr>\n",
       "    <tr>\n",
       "      <th>1</th>\n",
       "      <td>-237.519913</td>\n",
       "      <td>115.943642</td>\n",
       "      <td>-15.431627</td>\n",
       "      <td>47.103401</td>\n",
       "      <td>-13.503619</td>\n",
       "      <td>18.200195</td>\n",
       "      <td>-13.963651</td>\n",
       "      <td>15.332399</td>\n",
       "      <td>-17.526098</td>\n",
       "      <td>13.422287</td>\n",
       "      <td>-6.228493</td>\n",
       "      <td>8.632210</td>\n",
       "      <td>-7.249405</td>\n",
       "      <td>jazz</td>\n",
       "      <td>jazz</td>\n",
       "    </tr>\n",
       "    <tr>\n",
       "      <th>2</th>\n",
       "      <td>-294.054382</td>\n",
       "      <td>84.636292</td>\n",
       "      <td>39.074047</td>\n",
       "      <td>28.610291</td>\n",
       "      <td>14.117953</td>\n",
       "      <td>1.014346</td>\n",
       "      <td>7.343285</td>\n",
       "      <td>5.207617</td>\n",
       "      <td>-3.747638</td>\n",
       "      <td>-5.045502</td>\n",
       "      <td>2.226078</td>\n",
       "      <td>-0.577697</td>\n",
       "      <td>4.209762</td>\n",
       "      <td>jazz</td>\n",
       "      <td>jazz</td>\n",
       "    </tr>\n",
       "    <tr>\n",
       "      <th>3</th>\n",
       "      <td>-190.617630</td>\n",
       "      <td>144.019608</td>\n",
       "      <td>-28.387869</td>\n",
       "      <td>33.796574</td>\n",
       "      <td>-1.290763</td>\n",
       "      <td>-2.298157</td>\n",
       "      <td>-5.647254</td>\n",
       "      <td>-3.646698</td>\n",
       "      <td>-10.532908</td>\n",
       "      <td>-2.850047</td>\n",
       "      <td>-7.704916</td>\n",
       "      <td>-8.587104</td>\n",
       "      <td>-5.302705</td>\n",
       "      <td>jazz</td>\n",
       "      <td>jazz</td>\n",
       "    </tr>\n",
       "    <tr>\n",
       "      <th>4</th>\n",
       "      <td>-192.113541</td>\n",
       "      <td>105.568047</td>\n",
       "      <td>-26.025103</td>\n",
       "      <td>40.168938</td>\n",
       "      <td>-6.658171</td>\n",
       "      <td>26.505716</td>\n",
       "      <td>-10.386098</td>\n",
       "      <td>18.473986</td>\n",
       "      <td>-13.997671</td>\n",
       "      <td>14.939582</td>\n",
       "      <td>-12.698396</td>\n",
       "      <td>9.578537</td>\n",
       "      <td>-5.196664</td>\n",
       "      <td>jazz</td>\n",
       "      <td>jazz</td>\n",
       "    </tr>\n",
       "    <tr>\n",
       "      <th>...</th>\n",
       "      <td>...</td>\n",
       "      <td>...</td>\n",
       "      <td>...</td>\n",
       "      <td>...</td>\n",
       "      <td>...</td>\n",
       "      <td>...</td>\n",
       "      <td>...</td>\n",
       "      <td>...</td>\n",
       "      <td>...</td>\n",
       "      <td>...</td>\n",
       "      <td>...</td>\n",
       "      <td>...</td>\n",
       "      <td>...</td>\n",
       "      <td>...</td>\n",
       "      <td>...</td>\n",
       "    </tr>\n",
       "    <tr>\n",
       "      <th>993</th>\n",
       "      <td>-180.208908</td>\n",
       "      <td>131.432449</td>\n",
       "      <td>0.600788</td>\n",
       "      <td>43.153095</td>\n",
       "      <td>14.135330</td>\n",
       "      <td>25.614765</td>\n",
       "      <td>-5.311872</td>\n",
       "      <td>12.027975</td>\n",
       "      <td>-13.535557</td>\n",
       "      <td>-1.105729</td>\n",
       "      <td>-7.616473</td>\n",
       "      <td>2.714973</td>\n",
       "      <td>0.778359</td>\n",
       "      <td>blues</td>\n",
       "      <td>blues</td>\n",
       "    </tr>\n",
       "    <tr>\n",
       "      <th>994</th>\n",
       "      <td>-274.376892</td>\n",
       "      <td>130.407379</td>\n",
       "      <td>-6.357460</td>\n",
       "      <td>70.388214</td>\n",
       "      <td>13.269670</td>\n",
       "      <td>9.472176</td>\n",
       "      <td>7.733095</td>\n",
       "      <td>-1.236553</td>\n",
       "      <td>-0.570986</td>\n",
       "      <td>-2.297164</td>\n",
       "      <td>3.779416</td>\n",
       "      <td>0.085482</td>\n",
       "      <td>-0.936858</td>\n",
       "      <td>blues</td>\n",
       "      <td>blues</td>\n",
       "    </tr>\n",
       "    <tr>\n",
       "      <th>995</th>\n",
       "      <td>-95.463570</td>\n",
       "      <td>101.387459</td>\n",
       "      <td>-20.677706</td>\n",
       "      <td>48.668915</td>\n",
       "      <td>-30.248262</td>\n",
       "      <td>20.807699</td>\n",
       "      <td>-18.291418</td>\n",
       "      <td>14.138235</td>\n",
       "      <td>-12.799490</td>\n",
       "      <td>13.443616</td>\n",
       "      <td>-14.068502</td>\n",
       "      <td>7.732349</td>\n",
       "      <td>-19.215456</td>\n",
       "      <td>blues</td>\n",
       "      <td>blues</td>\n",
       "    </tr>\n",
       "    <tr>\n",
       "      <th>996</th>\n",
       "      <td>-217.183640</td>\n",
       "      <td>105.785217</td>\n",
       "      <td>15.602849</td>\n",
       "      <td>25.248840</td>\n",
       "      <td>-1.450049</td>\n",
       "      <td>30.193270</td>\n",
       "      <td>-17.716623</td>\n",
       "      <td>17.319040</td>\n",
       "      <td>-27.213608</td>\n",
       "      <td>4.338282</td>\n",
       "      <td>-20.057299</td>\n",
       "      <td>-10.700287</td>\n",
       "      <td>-14.228785</td>\n",
       "      <td>blues</td>\n",
       "      <td>blues</td>\n",
       "    </tr>\n",
       "    <tr>\n",
       "      <th>997</th>\n",
       "      <td>-3.579895</td>\n",
       "      <td>92.929642</td>\n",
       "      <td>-25.082928</td>\n",
       "      <td>45.179504</td>\n",
       "      <td>-10.856173</td>\n",
       "      <td>31.863400</td>\n",
       "      <td>-18.044390</td>\n",
       "      <td>28.626354</td>\n",
       "      <td>-10.227715</td>\n",
       "      <td>14.668069</td>\n",
       "      <td>-14.905226</td>\n",
       "      <td>14.741958</td>\n",
       "      <td>-15.603514</td>\n",
       "      <td>blues</td>\n",
       "      <td>blues</td>\n",
       "    </tr>\n",
       "  </tbody>\n",
       "</table>\n",
       "<p>998 rows × 15 columns</p>\n",
       "</div>"
      ],
      "text/plain": [
       "         mfcc_1      mfcc_2     mfcc_3     mfcc_4     mfcc_5     mfcc_6  \\\n",
       "0   -322.434845   90.674240  27.020731  37.843830  19.696077   4.611148   \n",
       "1   -237.519913  115.943642 -15.431627  47.103401 -13.503619  18.200195   \n",
       "2   -294.054382   84.636292  39.074047  28.610291  14.117953   1.014346   \n",
       "3   -190.617630  144.019608 -28.387869  33.796574  -1.290763  -2.298157   \n",
       "4   -192.113541  105.568047 -26.025103  40.168938  -6.658171  26.505716   \n",
       "..          ...         ...        ...        ...        ...        ...   \n",
       "993 -180.208908  131.432449   0.600788  43.153095  14.135330  25.614765   \n",
       "994 -274.376892  130.407379  -6.357460  70.388214  13.269670   9.472176   \n",
       "995  -95.463570  101.387459 -20.677706  48.668915 -30.248262  20.807699   \n",
       "996 -217.183640  105.785217  15.602849  25.248840  -1.450049  30.193270   \n",
       "997   -3.579895   92.929642 -25.082928  45.179504 -10.856173  31.863400   \n",
       "\n",
       "        mfcc_7     mfcc_8     mfcc_9    mfcc_10    mfcc_11    mfcc_12  \\\n",
       "0     3.071033   7.974174   1.931069   2.082464   0.440032   4.890438   \n",
       "1   -13.963651  15.332399 -17.526098  13.422287  -6.228493   8.632210   \n",
       "2     7.343285   5.207617  -3.747638  -5.045502   2.226078  -0.577697   \n",
       "3    -5.647254  -3.646698 -10.532908  -2.850047  -7.704916  -8.587104   \n",
       "4   -10.386098  18.473986 -13.997671  14.939582 -12.698396   9.578537   \n",
       "..         ...        ...        ...        ...        ...        ...   \n",
       "993  -5.311872  12.027975 -13.535557  -1.105729  -7.616473   2.714973   \n",
       "994   7.733095  -1.236553  -0.570986  -2.297164   3.779416   0.085482   \n",
       "995 -18.291418  14.138235 -12.799490  13.443616 -14.068502   7.732349   \n",
       "996 -17.716623  17.319040 -27.213608   4.338282 -20.057299 -10.700287   \n",
       "997 -18.044390  28.626354 -10.227715  14.668069 -14.905226  14.741958   \n",
       "\n",
       "       mfcc_13 actual_genre predicted_genre  \n",
       "0    13.061074         jazz            jazz  \n",
       "1    -7.249405         jazz            jazz  \n",
       "2     4.209762         jazz            jazz  \n",
       "3    -5.302705         jazz            jazz  \n",
       "4    -5.196664         jazz            jazz  \n",
       "..         ...          ...             ...  \n",
       "993   0.778359        blues           blues  \n",
       "994  -0.936858        blues           blues  \n",
       "995 -19.215456        blues           blues  \n",
       "996 -14.228785        blues           blues  \n",
       "997 -15.603514        blues           blues  \n",
       "\n",
       "[998 rows x 15 columns]"
      ]
     },
     "execution_count": 2,
     "metadata": {},
     "output_type": "execute_result"
    }
   ],
   "source": [
    "df = pd.read_parquet(\"data/monitoring.parquet\")\n",
    "df = df.drop(columns=['file'], errors='ignore')\n",
    "df"
   ]
  },
  {
   "cell_type": "code",
   "execution_count": 3,
   "id": "8642de57",
   "metadata": {},
   "outputs": [
    {
     "name": "stdout",
     "output_type": "stream",
     "text": [
      "Global Accuracy: 85.97%\n"
     ]
    }
   ],
   "source": [
    "accuracy = (df['actual_genre'] == df['predicted_genre']).mean()\n",
    "print(f\"Global Accuracy: {accuracy:.2%}\")"
   ]
  },
  {
   "cell_type": "code",
   "execution_count": 4,
   "id": "3a03743f",
   "metadata": {},
   "outputs": [
    {
     "name": "stdout",
     "output_type": "stream",
     "text": [
      "actual_genre\n",
      "classical    0.980000\n",
      "blues        0.950000\n",
      "metal        0.900000\n",
      "jazz         0.898990\n",
      "pop          0.870000\n",
      "country      0.870000\n",
      "disco        0.820000\n",
      "hiphop       0.800000\n",
      "reggae       0.777778\n",
      "rock         0.730000\n",
      "dtype: float64\n"
     ]
    },
    {
     "name": "stderr",
     "output_type": "stream",
     "text": [
      "/tmp/ipykernel_99856/4249371925.py:3: FutureWarning: DataFrameGroupBy.apply operated on the grouping columns. This behavior is deprecated, and in a future version of pandas the grouping columns will be excluded from the operation. Either pass `include_groups=False` to exclude the groupings or explicitly select the grouping columns after groupby to silence this warning.\n",
      "  .apply(lambda g: (g[\"actual_genre\"] == g[\"predicted_genre\"]).mean())\n"
     ]
    }
   ],
   "source": [
    "genre_accuracy = (\n",
    "    df.groupby(\"actual_genre\")\n",
    "    .apply(lambda g: (g[\"actual_genre\"] == g[\"predicted_genre\"]).mean())\n",
    "    .sort_values(ascending=False)\n",
    ")\n",
    "print(genre_accuracy)"
   ]
  },
  {
   "cell_type": "code",
   "execution_count": 5,
   "id": "1227e149",
   "metadata": {},
   "outputs": [
    {
     "data": {
      "text/plain": [
       "<sklearn.metrics._plot.confusion_matrix.ConfusionMatrixDisplay at 0x7c272f9b1e80>"
      ]
     },
     "execution_count": 5,
     "metadata": {},
     "output_type": "execute_result"
    },
    {
     "data": {
      "image/png": "[encoded data removed]",
      "text/plain": [
       "<Figure size 640x480 with 2 Axes>"
      ]
     },
     "metadata": {},
     "output_type": "display_data"
    }
   ],
   "source": [
    "from sklearn.metrics import confusion_matrix, ConfusionMatrixDisplay\n",
    "\n",
    "cm = confusion_matrix(df[\"actual_genre\"], df[\"predicted_genre\"], labels=sorted(df[\"actual_genre\"].unique()))\n",
    "disp = ConfusionMatrixDisplay(confusion_matrix=cm, display_labels=sorted(df[\"actual_genre\"].unique()))\n",
    "disp.plot(xticks_rotation=45)"
   ]
  },
  {
   "cell_type": "code",
   "execution_count": 6,
   "id": "a4f52d88",
   "metadata": {},
   "outputs": [
    {
     "data": {
      "image/png": "[encoded data removed]",
      "text/plain": [
       "<Figure size 640x480 with 1 Axes>"
      ]
     },
     "metadata": {},
     "output_type": "display_data"
    }
   ],
   "source": [
    "import seaborn as sns\n",
    "import matplotlib.pyplot as plt\n",
    "\n",
    "sns.boxplot(data=df[[f\"mfcc_{i+1}\" for i in range(13)]])\n",
    "plt.title(\"MFCC Feature Distributions\")\n",
    "plt.xticks(rotation=45)\n",
    "plt.show()"
   ]
  },
  {
   "cell_type": "code",
   "execution_count": 7,
   "id": "fcb811d9",
   "metadata": {},
   "outputs": [
    {
     "name": "stdout",
     "output_type": "stream",
     "text": [
      "✅ Stratified split done:\n",
      "Reference size: 798 rows\n",
      "Current size: 200 rows\n"
     ]
    }
   ],
   "source": [
    "from sklearn.model_selection import train_test_split\n",
    "\n",
    "# Stratified split by actual_genre\n",
    "reference_df, current_df = train_test_split(\n",
    "    df,\n",
    "    test_size=0.2,  # 20% for current, 80% for reference\n",
    "    stratify=df[\"actual_genre\"],\n",
    "    random_state=42\n",
    ")\n",
    "\n",
    "# Save to Parquet\n",
    "reference_df.to_parquet(\"data/reference.parquet\", index=False)\n",
    "current_df.to_parquet(\"data/current.parquet\", index=False)\n",
    "\n",
    "print(\"✅ Stratified split done:\")\n",
    "print(f\"Reference size: {len(reference_df)} rows\")\n",
    "print(f\"Current size: {len(current_df)} rows\")\n"
   ]
  },
  {
   "cell_type": "code",
   "execution_count": 8,
   "id": "4cd79b83",
   "metadata": {},
   "outputs": [
    {
     "name": "stdout",
     "output_type": "stream",
     "text": [
      "Genre distribution in reference:\n",
      "actual_genre\n",
      "blues        0.100251\n",
      "classical    0.100251\n",
      "country      0.100251\n",
      "disco        0.100251\n",
      "hiphop       0.100251\n",
      "jazz         0.098997\n",
      "metal        0.100251\n",
      "pop          0.100251\n",
      "reggae       0.098997\n",
      "rock         0.100251\n",
      "Name: proportion, dtype: float64\n",
      "\n",
      "Genre distribution in current:\n",
      "actual_genre\n",
      "blues        0.1\n",
      "classical    0.1\n",
      "country      0.1\n",
      "disco        0.1\n",
      "hiphop       0.1\n",
      "jazz         0.1\n",
      "metal        0.1\n",
      "pop          0.1\n",
      "reggae       0.1\n",
      "rock         0.1\n",
      "Name: proportion, dtype: float64\n"
     ]
    }
   ],
   "source": [
    "print(\"Genre distribution in reference:\")\n",
    "print(reference_df[\"actual_genre\"].value_counts(normalize=True).sort_index())\n",
    "\n",
    "print(\"\\nGenre distribution in current:\")\n",
    "print(current_df[\"actual_genre\"].value_counts(normalize=True).sort_index())"
   ]
  },
  {
   "cell_type": "markdown",
   "id": "85dfa069",
   "metadata": {},
   "source": [
    "## Evidently metrics"
   ]
  },
  {
   "cell_type": "code",
   "execution_count": 11,
   "id": "2a6134ae",
   "metadata": {},
   "outputs": [],
   "source": [
    "reference_df = pd.read_parquet(\"data/reference.parquet\")\n",
    "current_df = pd.read_parquet(\"data/current.parquet\")"
   ]
  },
  {
   "cell_type": "code",
   "execution_count": 7,
   "id": "f60d23af",
   "metadata": {},
   "outputs": [],
   "source": [
    "from evidently import MulticlassClassification\n",
    "from evidently import Dataset\n",
    "from evidently import DataDefinition\n",
    "from evidently import Report\n",
    "from evidently.metrics import *"
   ]
  },
  {
   "cell_type": "code",
   "execution_count": 8,
   "id": "28721094",
   "metadata": {},
   "outputs": [],
   "source": [
    "mfcc_cols = [f\"mfcc_{i+1}\" for i in range(13)]"
   ]
  },
  {
   "cell_type": "code",
   "execution_count": 9,
   "id": "f778ec23",
   "metadata": {},
   "outputs": [],
   "source": [
    "multiclass_definition=DataDefinition(\n",
    "        numerical_columns=mfcc_cols,\n",
    "        classification=[MulticlassClassification(target=\"actual_genre\", prediction_labels=\"predicted_genre\")],\n",
    "    )"
   ]
  },
  {
   "cell_type": "code",
   "execution_count": 25,
   "id": "bd2ff20d",
   "metadata": {},
   "outputs": [
    {
     "data": {
      "text/plain": [
       "DataDefinition(id_column=None, timestamp=None, service_columns=None, numerical_columns=['mfcc_1', 'mfcc_2', 'mfcc_3', 'mfcc_4', 'mfcc_5', 'mfcc_6', 'mfcc_7', 'mfcc_8', 'mfcc_9', 'mfcc_10', 'mfcc_11', 'mfcc_12', 'mfcc_13'], categorical_columns=None, text_columns=None, datetime_columns=None, classification=[MulticlassClassification(name='default', target='actual_genre', prediction_labels='predicted_genre', prediction_probas=None, labels=None)], regression=None, llm=None, numerical_descriptors=[], categorical_descriptors=[], test_descriptors=None, ranking=None)"
      ]
     },
     "execution_count": 25,
     "metadata": {},
     "output_type": "execute_result"
    }
   ],
   "source": [
    "multiclass_definition"
   ]
  },
  {
   "cell_type": "code",
   "execution_count": 12,
   "id": "e26ef581",
   "metadata": {},
   "outputs": [],
   "source": [
    "multiclass_reference_data = Dataset.from_pandas(\n",
    "    reference_df,\n",
    "    data_definition=multiclass_definition,\n",
    "\n",
    ")\n",
    "\n",
    "multiclass_current_data = Dataset.from_pandas(\n",
    "    current_df,\n",
    "    data_definition=multiclass_definition,\n",
    "\n",
    ")"
   ]
  },
  {
   "cell_type": "code",
   "execution_count": 13,
   "id": "65a782d4",
   "metadata": {},
   "outputs": [],
   "source": [
    "metrics = [\n",
    "    # Data quality metrics\n",
    "    RowCount(),\n",
    "    EmptyRowsCount(),\n",
    "    DuplicatedRowCount(),\n",
    "    *[MissingValueCount(column=col) for col in mfcc_cols],\n",
    "\n",
    "    # Data drift metrics - check each MFCC feature for drift\n",
    "    *[ValueDrift(column=col) for col in mfcc_cols],\n",
    "    # Overall drift summary\n",
    "    DriftedColumnsCount(columns=mfcc_cols),\n",
    "\n",
    "    # Prediction drift (on predicted genre)\n",
    "    ValueDrift(column=\"predicted_genre\"),\n",
    "    CategoryCount(\n",
    "    column=\"predicted_genre\",\n",
    "    categories=sorted(reference_df[\"predicted_genre\"].unique().tolist())\n",
    "    ),\n",
    "\n",
    "    # Classification performance\n",
    "    Accuracy(),\n",
    "    F1Score()\n",
    "    ]"
   ]
  },
  {
   "cell_type": "code",
   "execution_count": 19,
   "id": "3cb7a3d2",
   "metadata": {},
   "outputs": [],
   "source": [
    "report = Report(metrics=metrics)\n",
    "results = report.run(reference_data=multiclass_reference_data, current_data=multiclass_current_data).dict()"
   ]
  },
  {
   "cell_type": "code",
   "execution_count": 15,
   "id": "e7206371",
   "metadata": {},
   "outputs": [],
   "source": [
    "metrics_output=[]\n",
    "\n",
    "metrics_output.append(\"# HELP evidently_metric Evidently monitoring metric\")\n",
    "metrics_output.append(\"# TYPE evidently_metric gauge\")\n",
    "\n",
    "for metric in results[\"metrics\"]:\n",
    "    metric_id = metric.get(\"metric_id\").lower().replace(\"()\", \"\").replace(\" \", \"_\")\n",
    "    value = metric.get(\"value\")\n",
    "\n",
    "    # Handle numeric values\n",
    "    if isinstance(value, (int, float)):\n",
    "        metrics_output.append(f\"{metric_id} {value:.6f}\")\n",
    "\n",
    "    # Handle dict values (like drift counts)\n",
    "    elif isinstance(value, dict):\n",
    "        for sub_key, sub_val in value.items():\n",
    "            if isinstance(sub_val, (int, float)):\n",
    "                sub_name = f\"{metric_id}_{sub_key}\".replace(\" \", \"_\").replace(\",\", \"_\")\n",
    "                metrics_output.append(f\"{sub_name} {sub_val:.6f}\")\n",
    "\n",
    "    # Handle numpy floats\n",
    "    else:\n",
    "        try:\n",
    "            metrics_output.append(f\"{metric_id} {float(value):.6f}\")\n",
    "        except:\n",
    "            pass\n"
   ]
  },
  {
   "cell_type": "code",
   "execution_count": 16,
   "id": "fe34debb",
   "metadata": {},
   "outputs": [
    {
     "data": {
      "text/plain": [
       "['# HELP evidently_metric Evidently monitoring metric',\n",
       " '# TYPE evidently_metric gauge',\n",
       " 'rowcount 200.000000',\n",
       " 'emptyrowscount 0.000000',\n",
       " 'duplicatedrowcount 0.000000',\n",
       " 'missingvaluecount(column=mfcc_1)_count 0.000000',\n",
       " 'missingvaluecount(column=mfcc_1)_share 0.000000',\n",
       " 'missingvaluecount(column=mfcc_2)_count 0.000000',\n",
       " 'missingvaluecount(column=mfcc_2)_share 0.000000',\n",
       " 'missingvaluecount(column=mfcc_3)_count 0.000000',\n",
       " 'missingvaluecount(column=mfcc_3)_share 0.000000',\n",
       " 'missingvaluecount(column=mfcc_4)_count 0.000000',\n",
       " 'missingvaluecount(column=mfcc_4)_share 0.000000',\n",
       " 'missingvaluecount(column=mfcc_5)_count 0.000000',\n",
       " 'missingvaluecount(column=mfcc_5)_share 0.000000',\n",
       " 'missingvaluecount(column=mfcc_6)_count 0.000000',\n",
       " 'missingvaluecount(column=mfcc_6)_share 0.000000',\n",
       " 'missingvaluecount(column=mfcc_7)_count 0.000000',\n",
       " 'missingvaluecount(column=mfcc_7)_share 0.000000',\n",
       " 'missingvaluecount(column=mfcc_8)_count 0.000000',\n",
       " 'missingvaluecount(column=mfcc_8)_share 0.000000',\n",
       " 'missingvaluecount(column=mfcc_9)_count 0.000000',\n",
       " 'missingvaluecount(column=mfcc_9)_share 0.000000',\n",
       " 'missingvaluecount(column=mfcc_10)_count 0.000000',\n",
       " 'missingvaluecount(column=mfcc_10)_share 0.000000',\n",
       " 'missingvaluecount(column=mfcc_11)_count 0.000000',\n",
       " 'missingvaluecount(column=mfcc_11)_share 0.000000',\n",
       " 'missingvaluecount(column=mfcc_12)_count 0.000000',\n",
       " 'missingvaluecount(column=mfcc_12)_share 0.000000',\n",
       " 'missingvaluecount(column=mfcc_13)_count 0.000000',\n",
       " 'missingvaluecount(column=mfcc_13)_share 0.000000',\n",
       " 'valuedrift(column=mfcc_1) 0.758741',\n",
       " 'valuedrift(column=mfcc_2) 0.585172',\n",
       " 'valuedrift(column=mfcc_3) 0.357478',\n",
       " 'valuedrift(column=mfcc_4) 0.885951',\n",
       " 'valuedrift(column=mfcc_5) 0.414340',\n",
       " 'valuedrift(column=mfcc_6) 0.492633',\n",
       " 'valuedrift(column=mfcc_7) 0.899572',\n",
       " 'valuedrift(column=mfcc_8) 0.740495',\n",
       " 'valuedrift(column=mfcc_9) 0.984003',\n",
       " 'valuedrift(column=mfcc_10) 0.631787',\n",
       " 'valuedrift(column=mfcc_11) 0.191371',\n",
       " 'valuedrift(column=mfcc_12) 0.473369',\n",
       " 'valuedrift(column=mfcc_13) 0.258430',\n",
       " 'driftedcolumnscount(columns=mfcc_1_mfcc_2_mfcc_3_mfcc_4_mfcc_5_mfcc_6_mfcc_7_mfcc_8_mfcc_9_mfcc_10_mfcc_11_mfcc_12_mfcc_13_drift_share=0.5)_count 0.000000',\n",
       " 'driftedcolumnscount(columns=mfcc_1_mfcc_2_mfcc_3_mfcc_4_mfcc_5_mfcc_6_mfcc_7_mfcc_8_mfcc_9_mfcc_10_mfcc_11_mfcc_12_mfcc_13_drift_share=0.5)_share 0.000000',\n",
       " 'valuedrift(column=predicted_genre) 0.999405',\n",
       " 'categorycount(column=predicted_genre_categories=blues_classical_country_disco_hiphop_jazz_metal_pop_reggae_rock)_count 200.000000',\n",
       " 'categorycount(column=predicted_genre_categories=blues_classical_country_disco_hiphop_jazz_metal_pop_reggae_rock)_share 1.000000',\n",
       " 'accuracy 0.865000',\n",
       " 'f1score(conf_matrix=true) 0.864359']"
      ]
     },
     "execution_count": 16,
     "metadata": {},
     "output_type": "execute_result"
    }
   ],
   "source": [
    "metrics_output"
   ]
  }
 ],
 "metadata": {
  "kernelspec": {
   "display_name": "Python 3",
   "language": "python",
   "name": "python3"
  },
  "language_info": {
   "codemirror_mode": {
    "name": "ipython",
    "version": 3
   },
   "file_extension": ".py",
   "mimetype": "text/x-python",
   "name": "python",
   "nbconvert_exporter": "python",
   "pygments_lexer": "ipython3",
   "version": "3.12.1"
  }
 },
 "nbformat": 4,
 "nbformat_minor": 5
}
